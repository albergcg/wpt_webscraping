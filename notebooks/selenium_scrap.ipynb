{
 "cells": [
  {
   "cell_type": "code",
   "execution_count": 1,
   "metadata": {},
   "outputs": [],
   "source": [
    "# wpt_scraper.py\n",
    "import os\n",
    "import csv\n",
    "import time\n",
    "from selenium.webdriver import Chrome\n",
    "from selenium.webdriver.common.by import By\n",
    "from selenium.webdriver.support.expected_conditions import visibility_of_element_located\n",
    "from selenium.webdriver.support.ui import WebDriverWait\n",
    "from selenium.common.exceptions import TimeoutException\n",
    "from selenium.webdriver.support.ui import Select"
   ]
  },
  {
   "cell_type": "code",
   "execution_count": 2,
   "metadata": {},
   "outputs": [],
   "source": [
    "DRIVER_PATH = 'D:\\Alberto\\Archivos de programa\\chromedriver.exe'\n",
    "driver_chrome = Chrome(DRIVER_PATH)\n",
    "driver_chrome.get('https://www.worldpadeltour.com/jugadores')"
   ]
  },
  {
   "cell_type": "code",
   "execution_count": 3,
   "metadata": {},
   "outputs": [
    {
     "data": {
      "text/plain": [
       "<selenium.webdriver.remote.webelement.WebElement (session=\"afc8761c2b03937d5c27a1c144c013bc\", element=\"51d10e2a-6c9f-4fdc-8d0e-affbaeb7bdae\")>"
      ]
     },
     "execution_count": 3,
     "metadata": {},
     "output_type": "execute_result"
    }
   ],
   "source": [
    "WebDriverWait(driver_chrome, 10).until(visibility_of_element_located((By.XPATH, '//*[@id=\"site-container\"]')))"
   ]
  },
  {
   "cell_type": "code",
   "execution_count": 4,
   "metadata": {},
   "outputs": [],
   "source": [
    "#csv_file = open('datos_padel_final.csv', 'w')"
   ]
  },
  {
   "cell_type": "code",
   "execution_count": 5,
   "metadata": {},
   "outputs": [],
   "source": [
    "def scroll_to_top(driver, topX):\n",
    "    driver = driver_chrome\n",
    "    topX_xpath = f'//*[@id=\"site-container\"]/div[4]/div/div[1]/ul/li[{topX}]/a/div[1]/div[1]/div[1]'\n",
    "    topX_found = None\n",
    "\n",
    "    while topX_found == None:\n",
    "        driver.execute_script(\"window.scrollBy(0, 1000)\")\n",
    "        try:\n",
    "            topX_found = WebDriverWait(driver, 2).until(visibility_of_element_located((By.XPATH, topX_xpath)))\n",
    "        except TimeoutException:\n",
    "            pass"
   ]
  },
  {
   "cell_type": "code",
   "execution_count": 6,
   "metadata": {},
   "outputs": [],
   "source": [
    "topX = 10\n",
    "scroll_to_top(driver=driver_chrome, topX=topX)"
   ]
  },
  {
   "cell_type": "code",
   "execution_count": 7,
   "metadata": {},
   "outputs": [],
   "source": [
    "men_links = []\n",
    "\n",
    "for position in range(1, topX+1):\n",
    "    player_xpath = f'//*[@id=\"site-container\"]/div[4]/div/div[1]/ul/li[{str(position)}]/a'\n",
    "    player_element = WebDriverWait(driver_chrome, 10).until(visibility_of_element_located((By.XPATH, player_xpath)))\n",
    "    player_link = player_element.get_attribute('href')\n",
    "    men_links.append(player_link)"
   ]
  },
  {
   "cell_type": "code",
   "execution_count": 8,
   "metadata": {},
   "outputs": [],
   "source": [
    "women_links = []\n",
    "\n",
    "for position in range(1, topX+1):\n",
    "    player_xpath = f'//*[@id=\"site-container\"]/div[4]/div/div[2]/ul/li[{str(position)}]/a'\n",
    "    player_element = WebDriverWait(driver_chrome, 10).until(visibility_of_element_located((By.XPATH, player_xpath)))\n",
    "    player_link = player_element.get_attribute('href')\n",
    "    women_links.append(player_link)"
   ]
  },
  {
   "cell_type": "code",
   "execution_count": 9,
   "metadata": {},
   "outputs": [
    {
     "name": "stdout",
     "output_type": "stream",
     "text": [
      "//*[@id=\"site-container\"]/div[3]/div/div/div/div/div/ul/li[7]\n"
     ]
    },
    {
     "ename": "ElementNotInteractableException",
     "evalue": "Message: element not interactable\n  (Session info: chrome=86.0.4240.183)\n",
     "output_type": "error",
     "traceback": [
      "\u001b[1;31m---------------------------------------------------------------------------\u001b[0m",
      "\u001b[1;31mElementNotInteractableException\u001b[0m           Traceback (most recent call last)",
      "\u001b[1;32m<ipython-input-9-2db1b8024d69>\u001b[0m in \u001b[0;36m<module>\u001b[1;34m\u001b[0m\n\u001b[0;32m     67\u001b[0m         \u001b[0mtmp_xpath\u001b[0m \u001b[1;33m=\u001b[0m \u001b[1;34mf'//*[@id=\"site-container\"]/div[3]/div/div/div/div/div/ul/li[{year_dict[str(year)]}]'\u001b[0m\u001b[1;33m\u001b[0m\u001b[1;33m\u001b[0m\u001b[0m\n\u001b[0;32m     68\u001b[0m         \u001b[0mprint\u001b[0m\u001b[1;33m(\u001b[0m\u001b[0mtmp_xpath\u001b[0m\u001b[1;33m)\u001b[0m\u001b[1;33m\u001b[0m\u001b[1;33m\u001b[0m\u001b[0m\n\u001b[1;32m---> 69\u001b[1;33m         \u001b[0mdriver_chrome\u001b[0m\u001b[1;33m.\u001b[0m\u001b[0mfind_element_by_xpath\u001b[0m\u001b[1;33m(\u001b[0m\u001b[1;34m'//*[@id=\"ranking-year\"]'\u001b[0m\u001b[1;33m)\u001b[0m\u001b[1;33m.\u001b[0m\u001b[0mclick\u001b[0m\u001b[1;33m(\u001b[0m\u001b[1;33m)\u001b[0m\u001b[1;33m\u001b[0m\u001b[1;33m\u001b[0m\u001b[0m\n\u001b[0m\u001b[0;32m     70\u001b[0m         \u001b[0mselect\u001b[0m \u001b[1;33m=\u001b[0m \u001b[0mSelect\u001b[0m\u001b[1;33m(\u001b[0m\u001b[0mdriver_chrome\u001b[0m\u001b[1;33m.\u001b[0m\u001b[0mfind_element_by_xpath\u001b[0m\u001b[1;33m(\u001b[0m\u001b[0myear_selector_xpath\u001b[0m\u001b[1;33m)\u001b[0m\u001b[1;33m)\u001b[0m\u001b[1;33m\u001b[0m\u001b[1;33m\u001b[0m\u001b[0m\n\u001b[0;32m     71\u001b[0m         \u001b[0mselect\u001b[0m\u001b[1;33m.\u001b[0m\u001b[0mselect_by_value\u001b[0m\u001b[1;33m(\u001b[0m\u001b[1;34m\"2020\"\u001b[0m\u001b[1;33m)\u001b[0m\u001b[1;33m\u001b[0m\u001b[1;33m\u001b[0m\u001b[0m\n",
      "\u001b[1;32mD:\\Alberto\\Anaconda3\\lib\\site-packages\\selenium\\webdriver\\remote\\webelement.py\u001b[0m in \u001b[0;36mclick\u001b[1;34m(self)\u001b[0m\n\u001b[0;32m     78\u001b[0m     \u001b[1;32mdef\u001b[0m \u001b[0mclick\u001b[0m\u001b[1;33m(\u001b[0m\u001b[0mself\u001b[0m\u001b[1;33m)\u001b[0m\u001b[1;33m:\u001b[0m\u001b[1;33m\u001b[0m\u001b[1;33m\u001b[0m\u001b[0m\n\u001b[0;32m     79\u001b[0m         \u001b[1;34m\"\"\"Clicks the element.\"\"\"\u001b[0m\u001b[1;33m\u001b[0m\u001b[1;33m\u001b[0m\u001b[0m\n\u001b[1;32m---> 80\u001b[1;33m         \u001b[0mself\u001b[0m\u001b[1;33m.\u001b[0m\u001b[0m_execute\u001b[0m\u001b[1;33m(\u001b[0m\u001b[0mCommand\u001b[0m\u001b[1;33m.\u001b[0m\u001b[0mCLICK_ELEMENT\u001b[0m\u001b[1;33m)\u001b[0m\u001b[1;33m\u001b[0m\u001b[1;33m\u001b[0m\u001b[0m\n\u001b[0m\u001b[0;32m     81\u001b[0m \u001b[1;33m\u001b[0m\u001b[0m\n\u001b[0;32m     82\u001b[0m     \u001b[1;32mdef\u001b[0m \u001b[0msubmit\u001b[0m\u001b[1;33m(\u001b[0m\u001b[0mself\u001b[0m\u001b[1;33m)\u001b[0m\u001b[1;33m:\u001b[0m\u001b[1;33m\u001b[0m\u001b[1;33m\u001b[0m\u001b[0m\n",
      "\u001b[1;32mD:\\Alberto\\Anaconda3\\lib\\site-packages\\selenium\\webdriver\\remote\\webelement.py\u001b[0m in \u001b[0;36m_execute\u001b[1;34m(self, command, params)\u001b[0m\n\u001b[0;32m    631\u001b[0m             \u001b[0mparams\u001b[0m \u001b[1;33m=\u001b[0m \u001b[1;33m{\u001b[0m\u001b[1;33m}\u001b[0m\u001b[1;33m\u001b[0m\u001b[1;33m\u001b[0m\u001b[0m\n\u001b[0;32m    632\u001b[0m         \u001b[0mparams\u001b[0m\u001b[1;33m[\u001b[0m\u001b[1;34m'id'\u001b[0m\u001b[1;33m]\u001b[0m \u001b[1;33m=\u001b[0m \u001b[0mself\u001b[0m\u001b[1;33m.\u001b[0m\u001b[0m_id\u001b[0m\u001b[1;33m\u001b[0m\u001b[1;33m\u001b[0m\u001b[0m\n\u001b[1;32m--> 633\u001b[1;33m         \u001b[1;32mreturn\u001b[0m \u001b[0mself\u001b[0m\u001b[1;33m.\u001b[0m\u001b[0m_parent\u001b[0m\u001b[1;33m.\u001b[0m\u001b[0mexecute\u001b[0m\u001b[1;33m(\u001b[0m\u001b[0mcommand\u001b[0m\u001b[1;33m,\u001b[0m \u001b[0mparams\u001b[0m\u001b[1;33m)\u001b[0m\u001b[1;33m\u001b[0m\u001b[1;33m\u001b[0m\u001b[0m\n\u001b[0m\u001b[0;32m    634\u001b[0m \u001b[1;33m\u001b[0m\u001b[0m\n\u001b[0;32m    635\u001b[0m     \u001b[1;32mdef\u001b[0m \u001b[0mfind_element\u001b[0m\u001b[1;33m(\u001b[0m\u001b[0mself\u001b[0m\u001b[1;33m,\u001b[0m \u001b[0mby\u001b[0m\u001b[1;33m=\u001b[0m\u001b[0mBy\u001b[0m\u001b[1;33m.\u001b[0m\u001b[0mID\u001b[0m\u001b[1;33m,\u001b[0m \u001b[0mvalue\u001b[0m\u001b[1;33m=\u001b[0m\u001b[1;32mNone\u001b[0m\u001b[1;33m)\u001b[0m\u001b[1;33m:\u001b[0m\u001b[1;33m\u001b[0m\u001b[1;33m\u001b[0m\u001b[0m\n",
      "\u001b[1;32mD:\\Alberto\\Anaconda3\\lib\\site-packages\\selenium\\webdriver\\remote\\webdriver.py\u001b[0m in \u001b[0;36mexecute\u001b[1;34m(self, driver_command, params)\u001b[0m\n\u001b[0;32m    319\u001b[0m         \u001b[0mresponse\u001b[0m \u001b[1;33m=\u001b[0m \u001b[0mself\u001b[0m\u001b[1;33m.\u001b[0m\u001b[0mcommand_executor\u001b[0m\u001b[1;33m.\u001b[0m\u001b[0mexecute\u001b[0m\u001b[1;33m(\u001b[0m\u001b[0mdriver_command\u001b[0m\u001b[1;33m,\u001b[0m \u001b[0mparams\u001b[0m\u001b[1;33m)\u001b[0m\u001b[1;33m\u001b[0m\u001b[1;33m\u001b[0m\u001b[0m\n\u001b[0;32m    320\u001b[0m         \u001b[1;32mif\u001b[0m \u001b[0mresponse\u001b[0m\u001b[1;33m:\u001b[0m\u001b[1;33m\u001b[0m\u001b[1;33m\u001b[0m\u001b[0m\n\u001b[1;32m--> 321\u001b[1;33m             \u001b[0mself\u001b[0m\u001b[1;33m.\u001b[0m\u001b[0merror_handler\u001b[0m\u001b[1;33m.\u001b[0m\u001b[0mcheck_response\u001b[0m\u001b[1;33m(\u001b[0m\u001b[0mresponse\u001b[0m\u001b[1;33m)\u001b[0m\u001b[1;33m\u001b[0m\u001b[1;33m\u001b[0m\u001b[0m\n\u001b[0m\u001b[0;32m    322\u001b[0m             response['value'] = self._unwrap_value(\n\u001b[0;32m    323\u001b[0m                 response.get('value', None))\n",
      "\u001b[1;32mD:\\Alberto\\Anaconda3\\lib\\site-packages\\selenium\\webdriver\\remote\\errorhandler.py\u001b[0m in \u001b[0;36mcheck_response\u001b[1;34m(self, response)\u001b[0m\n\u001b[0;32m    240\u001b[0m                 \u001b[0malert_text\u001b[0m \u001b[1;33m=\u001b[0m \u001b[0mvalue\u001b[0m\u001b[1;33m[\u001b[0m\u001b[1;34m'alert'\u001b[0m\u001b[1;33m]\u001b[0m\u001b[1;33m.\u001b[0m\u001b[0mget\u001b[0m\u001b[1;33m(\u001b[0m\u001b[1;34m'text'\u001b[0m\u001b[1;33m)\u001b[0m\u001b[1;33m\u001b[0m\u001b[1;33m\u001b[0m\u001b[0m\n\u001b[0;32m    241\u001b[0m             \u001b[1;32mraise\u001b[0m \u001b[0mexception_class\u001b[0m\u001b[1;33m(\u001b[0m\u001b[0mmessage\u001b[0m\u001b[1;33m,\u001b[0m \u001b[0mscreen\u001b[0m\u001b[1;33m,\u001b[0m \u001b[0mstacktrace\u001b[0m\u001b[1;33m,\u001b[0m \u001b[0malert_text\u001b[0m\u001b[1;33m)\u001b[0m\u001b[1;33m\u001b[0m\u001b[1;33m\u001b[0m\u001b[0m\n\u001b[1;32m--> 242\u001b[1;33m         \u001b[1;32mraise\u001b[0m \u001b[0mexception_class\u001b[0m\u001b[1;33m(\u001b[0m\u001b[0mmessage\u001b[0m\u001b[1;33m,\u001b[0m \u001b[0mscreen\u001b[0m\u001b[1;33m,\u001b[0m \u001b[0mstacktrace\u001b[0m\u001b[1;33m)\u001b[0m\u001b[1;33m\u001b[0m\u001b[1;33m\u001b[0m\u001b[0m\n\u001b[0m\u001b[0;32m    243\u001b[0m \u001b[1;33m\u001b[0m\u001b[0m\n\u001b[0;32m    244\u001b[0m     \u001b[1;32mdef\u001b[0m \u001b[0m_value_or_default\u001b[0m\u001b[1;33m(\u001b[0m\u001b[0mself\u001b[0m\u001b[1;33m,\u001b[0m \u001b[0mobj\u001b[0m\u001b[1;33m,\u001b[0m \u001b[0mkey\u001b[0m\u001b[1;33m,\u001b[0m \u001b[0mdefault\u001b[0m\u001b[1;33m)\u001b[0m\u001b[1;33m:\u001b[0m\u001b[1;33m\u001b[0m\u001b[1;33m\u001b[0m\u001b[0m\n",
      "\u001b[1;31mElementNotInteractableException\u001b[0m: Message: element not interactable\n  (Session info: chrome=86.0.4240.183)\n"
     ]
    }
   ],
   "source": [
    "for position, player_link in enumerate(men_links, 1):\n",
    "    \n",
    "    driver_chrome.get(player_link)\n",
    "    \n",
    "    if position == 1:\n",
    "        header_xpath = f'//*[@id=\"site-container\"]/div[1]/div/div[1]/div[1]'\n",
    "    else:\n",
    "        header_xpath = f'//*[@id=\"site-container\"]/div[1]/div/div[1]/div[2]'\n",
    "    \n",
    "    name_xpath = header_xpath + '/div/h1'\n",
    "    name = WebDriverWait(driver_chrome, 3).until(visibility_of_element_located((By.XPATH, name_xpath))).text\n",
    "    \n",
    "    ranking_xpath = header_xpath + '/div/div/div[1]/p[2]'\n",
    "    ranking = WebDriverWait(driver_chrome, 3).until(visibility_of_element_located((By.XPATH, ranking_xpath))).text    \n",
    "    \n",
    "    points_xpath = header_xpath + '/div/div/div[2]/p[2]'\n",
    "    points = WebDriverWait(driver_chrome, 3).until(visibility_of_element_located((By.XPATH, points_xpath))).text\n",
    "    \n",
    "    mate_xpath = '//*[@id=\"site-container\"]/div[1]/div/div[2]/div[2]/ul[1]/li[1]/p/a'\n",
    "    mate = WebDriverWait(driver_chrome, 3).until(visibility_of_element_located((By.XPATH, mate_xpath))).text\n",
    "    \n",
    "    position_xpath = '//*[@id=\"site-container\"]/div[1]/div/div[2]/div[2]/ul[1]/li[2]/p'\n",
    "    court_position = WebDriverWait(driver_chrome, 3).until(visibility_of_element_located((By.XPATH, position_xpath))).text\n",
    "    \n",
    "    personal_data_xpath = '//*[@id=\"site-container\"]/div[1]/div/div[1]/ul/li[2]/a'\n",
    "    WebDriverWait(driver_chrome, 20).until(visibility_of_element_located((By.XPATH, personal_data_xpath))).click()\n",
    "    \n",
    "    birthplace_xpath = '//*[@id=\"site-container\"]/div[1]/div/div[2]/div[2]/ul[2]/li[1]/p'\n",
    "    birthplace = WebDriverWait(driver_chrome, 3).until(visibility_of_element_located((By.XPATH, birthplace_xpath))).text\n",
    "    \n",
    "    birthdate_xpath = '//*[@id=\"site-container\"]/div[1]/div/div[2]/div[2]/ul[2]/li[2]/p'\n",
    "    birthdate = WebDriverWait(driver_chrome, 30).until(visibility_of_element_located((By.XPATH, birthdate_xpath))).text\n",
    "    \n",
    "    height_xpath = '//*[@id=\"site-container\"]/div[1]/div/div[2]/div[2]/ul[2]/li[3]/p'\n",
    "    height = WebDriverWait(driver_chrome, 30).until(visibility_of_element_located((By.XPATH, height_xpath))).text\n",
    "    \n",
    "    residence_xpath = '//*[@id=\"site-container\"]/div[1]/div/div[2]/div[2]/ul[2]/li[4]/p'\n",
    "    residence = WebDriverWait(driver_chrome, 30).until(visibility_of_element_located((By.XPATH, residence_xpath))).text\n",
    "    \n",
    "    played_xpath = '//*[@id=\"site-container\"]/div[2]/div/div/div[1]/p[2]'\n",
    "    played = WebDriverWait(driver_chrome, 30).until(visibility_of_element_located((By.XPATH, played_xpath))).text\n",
    "    \n",
    "    won_xpath = '//*[@id=\"site-container\"]/div[2]/div/div/div[2]/p[2]'\n",
    "    won = WebDriverWait(driver_chrome, 30).until(visibility_of_element_located((By.XPATH, won_xpath))).text\n",
    "    \n",
    "    lost = int(played) - int(won)\n",
    "    effectiveness = int(won) / int(played)\n",
    "    \n",
    "    consecutive_xpath = '//*[@id=\"site-container\"]/div[2]/div/div/div[5]/p[2]'\n",
    "    consecutive = WebDriverWait(driver_chrome, 30).until(visibility_of_element_located((By.XPATH, consecutive_xpath))).text\n",
    "    \n",
    "    year_selector = driver_chrome.find_element_by_class_name(\"c-form__select-options\")\n",
    "    driver_chrome.execute_script(\"arguments[0].style.display='block';\", year_selector)\n",
    "    \n",
    "    years = [2015, 2017]\n",
    "    \n",
    "    year_dict = {\"2020\": \"2\",\n",
    "                 \"2019\": \"3\",\n",
    "                 \"2018\": \"4\",\n",
    "                 \"2017\": \"5\",\n",
    "                 \"2016\": \"6\",\n",
    "                 \"2015\": \"7\",\n",
    "                 \"2014\": \"8\",\n",
    "                 \"2013\": \"9\"}\n",
    "    \n",
    "    for year in years:\n",
    "        tmp_xpath = f'//*[@id=\"site-container\"]/div[3]/div/div/div/div/div/ul/li[{year_dict[str(year)]}]'\n",
    "        print(tmp_xpath)\n",
    "        driver_chrome.find_element_by_xpath('//*[@id=\"ranking-year\"]').click()\n",
    "        select = Select(driver_chrome.find_element_by_xpath(year_selector_xpath))\n",
    "        select.select_by_value(year)\n",
    "    \n",
    "    \n",
    "    #//*[@id=\"site-container\"]/div[3]/div/div/div/div/div/div\n",
    "    \n",
    "    #WebDriverWait(driver_chrome, 20).until(visibility_of_element_located((By.XPATH, year_selector_xpath)))\n",
    "    \n",
    "    \n",
    "    #for year in years:\n",
    "        #tmp_xpath = \n",
    "        \n",
    "        #//*[@id=\"site-container\"]/div[3]/div/div/div/div/div/ul/li[3]\n",
    "        #//*[@id=\"site-container\"]/div[3]/div/div/div/div/div/ul/li[2]\n",
    "    \n",
    "    \n",
    "    \n",
    "    #csv_file.write(str(name) + \";\" + str(ranking) + \";\" + str(points) + \";\" + str(mate) + \";\" + str(position) + \";\" + str(birthplace) + \";\" + str(height) + \";\" + str(residence) + \";\" + str(played) + \";\" + str(won) + \";\" + str(lost) + \";\" + str(effectiveness) + \";\" + str(consecutive) + \"\\n\")\n"
   ]
  },
  {
   "cell_type": "code",
   "execution_count": null,
   "metadata": {},
   "outputs": [],
   "source": [
    "#csv_file.close()"
   ]
  },
  {
   "cell_type": "code",
   "execution_count": null,
   "metadata": {},
   "outputs": [],
   "source": []
  }
 ],
 "metadata": {
  "kernelspec": {
   "display_name": "Python 3",
   "language": "python",
   "name": "python3"
  },
  "language_info": {
   "codemirror_mode": {
    "name": "ipython",
    "version": 3
   },
   "file_extension": ".py",
   "mimetype": "text/x-python",
   "name": "python",
   "nbconvert_exporter": "python",
   "pygments_lexer": "ipython3",
   "version": "3.8.3"
  }
 },
 "nbformat": 4,
 "nbformat_minor": 4
}
