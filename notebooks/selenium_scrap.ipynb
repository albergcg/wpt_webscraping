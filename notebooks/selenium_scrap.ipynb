{
 "cells": [
  {
   "cell_type": "code",
   "execution_count": 1,
   "metadata": {},
   "outputs": [],
   "source": [
    "# wpt_scraper.py\n",
    "import os\n",
    "import csv\n",
    "from selenium.webdriver import Chrome\n",
    "from selenium.webdriver.common.by import By\n",
    "from selenium.webdriver.support.expected_conditions import visibility_of_element_located\n",
    "from selenium.webdriver.support.ui import WebDriverWait\n",
    "from selenium.common.exceptions import TimeoutException"
   ]
  },
  {
   "cell_type": "code",
   "execution_count": 2,
   "metadata": {},
   "outputs": [],
   "source": [
    "DRIVER_PATH = 'D:\\Alberto\\Archivos de programa\\chromedriver.exe'\n",
    "driver_chrome = Chrome(DRIVER_PATH)\n",
    "driver_chrome.get('https://www.worldpadeltour.com/jugadores')"
   ]
  },
  {
   "cell_type": "code",
   "execution_count": 3,
   "metadata": {},
   "outputs": [
    {
     "data": {
      "text/plain": [
       "<selenium.webdriver.remote.webelement.WebElement (session=\"26587b8a34e2ed9dd56b7776648da651\", element=\"e5466f33-1fdc-4c61-bc5b-216c8c7f2ed1\")>"
      ]
     },
     "execution_count": 3,
     "metadata": {},
     "output_type": "execute_result"
    }
   ],
   "source": [
    "WebDriverWait(driver_chrome, 10).until(visibility_of_element_located((By.XPATH, '//*[@id=\"site-container\"]')))"
   ]
  },
  {
   "cell_type": "code",
   "execution_count": 4,
   "metadata": {},
   "outputs": [],
   "source": [
    "csv_file = open('datos_padel_final.csv', 'w')"
   ]
  },
  {
   "cell_type": "code",
   "execution_count": 5,
   "metadata": {},
   "outputs": [],
   "source": [
    "def scroll_to_top(driver, topX):\n",
    "    driver = driver_chrome\n",
    "    topX_xpath = f'//*[@id=\"site-container\"]/div[4]/div/div[1]/ul/li[{topX}]/a/div[1]/div[1]/div[1]'\n",
    "    topX_found = None\n",
    "\n",
    "    while topX_found == None:\n",
    "        driver.execute_script(\"window.scrollBy(0, 1000)\")\n",
    "        try:\n",
    "            topX_found = WebDriverWait(driver, 2).until(visibility_of_element_located((By.XPATH, topX_xpath)))\n",
    "        except TimeoutException:\n",
    "            pass"
   ]
  },
  {
   "cell_type": "code",
   "execution_count": 6,
   "metadata": {},
   "outputs": [],
   "source": [
    "topX = 10\n",
    "scroll_to_top(driver=driver_chrome, topX=topX)"
   ]
  },
  {
   "cell_type": "code",
   "execution_count": 7,
   "metadata": {},
   "outputs": [],
   "source": [
    "men_links = []\n",
    "\n",
    "for position in range(1, topX+1):\n",
    "    player_xpath = f'//*[@id=\"site-container\"]/div[4]/div/div[1]/ul/li[{str(position)}]/a'\n",
    "    player_element = WebDriverWait(driver_chrome, 10).until(visibility_of_element_located((By.XPATH, player_xpath)))\n",
    "    player_link = player_element.get_attribute('href')\n",
    "    men_links.append(player_link)"
   ]
  },
  {
   "cell_type": "code",
   "execution_count": 8,
   "metadata": {},
   "outputs": [],
   "source": [
    "women_links = []\n",
    "\n",
    "for position in range(1, topX+1):\n",
    "    player_xpath = f'//*[@id=\"site-container\"]/div[4]/div/div[2]/ul/li[{str(position)}]/a'\n",
    "    player_element = WebDriverWait(driver_chrome, 10).until(visibility_of_element_located((By.XPATH, player_xpath)))\n",
    "    player_link = player_element.get_attribute('href')\n",
    "    women_links.append(player_link)"
   ]
  },
  {
   "cell_type": "code",
   "execution_count": 9,
   "metadata": {},
   "outputs": [],
   "source": [
    "for position, player_link in enumerate(men_links, 1):\n",
    "    \n",
    "    driver_chrome.get(player_link)\n",
    "    \n",
    "    if position == 1:\n",
    "        header_xpath = f'//*[@id=\"site-container\"]/div[1]/div/div[1]/div[1]'\n",
    "    else:\n",
    "        header_xpath = f'//*[@id=\"site-container\"]/div[1]/div/div[1]/div[2]'\n",
    "    \n",
    "    name_xpath = header_xpath + '/div/h1'\n",
    "    name = WebDriverWait(driver_chrome, 3).until(visibility_of_element_located((By.XPATH, name_xpath))).text\n",
    "    \n",
    "    ranking_xpath = header_xpath + '/div/div/div[1]/p[2]'\n",
    "    ranking = WebDriverWait(driver_chrome, 3).until(visibility_of_element_located((By.XPATH, ranking_xpath))).text    \n",
    "    \n",
    "    points_xpath = header_xpath + '/div/div/div[2]/p[2]'\n",
    "    points = WebDriverWait(driver_chrome, 3).until(visibility_of_element_located((By.XPATH, points_xpath))).text\n",
    "    \n",
    "    mate_xpath = '//*[@id=\"site-container\"]/div[1]/div/div[2]/div[2]/ul[1]/li[1]/p/a'\n",
    "    mate = WebDriverWait(driver_chrome, 3).until(visibility_of_element_located((By.XPATH, mate_xpath))).text\n",
    "    \n",
    "    position_xpath = '//*[@id=\"site-container\"]/div[1]/div/div[2]/div[2]/ul[1]/li[2]/p'\n",
    "    court_position = WebDriverWait(driver_chrome, 3).until(visibility_of_element_located((By.XPATH, position_xpath))).text\n",
    "    \n",
    "    personal_data_xpath = '//*[@id=\"site-container\"]/div[1]/div/div[1]/ul/li[2]/a'\n",
    "    WebDriverWait(driver_chrome, 20).until(visibility_of_element_located((By.XPATH, personal_data_xpath))).click()\n",
    "    \n",
    "    birthplace_xpath = '//*[@id=\"site-container\"]/div[1]/div/div[2]/div[2]/ul[2]/li[1]/p'\n",
    "    birthplace = WebDriverWait(driver_chrome, 3).until(visibility_of_element_located((By.XPATH, birthplace_xpath))).text\n",
    "    \n",
    "    birthdate_xpath = '//*[@id=\"site-container\"]/div[1]/div/div[2]/div[2]/ul[2]/li[2]/p'\n",
    "    birthdate = WebDriverWait(driver_chrome, 30).until(visibility_of_element_located((By.XPATH, birthdate_xpath))).text\n",
    "    \n",
    "    height_xpath = '//*[@id=\"site-container\"]/div[1]/div/div[2]/div[2]/ul[2]/li[3]/p'\n",
    "    height = WebDriverWait(driver_chrome, 30).until(visibility_of_element_located((By.XPATH, height_xpath))).text\n",
    "    \n",
    "    residence_xpath = '//*[@id=\"site-container\"]/div[1]/div/div[2]/div[2]/ul[2]/li[4]/p'\n",
    "    residence = WebDriverWait(driver_chrome, 30).until(visibility_of_element_located((By.XPATH, residence_xpath))).text\n",
    "    \n",
    "    played_xpath = '//*[@id=\"site-container\"]/div[2]/div/div/div[1]/p[2]'\n",
    "    played = WebDriverWait(driver_chrome, 30).until(visibility_of_element_located((By.XPATH, played_xpath))).text\n",
    "    \n",
    "    won_xpath = '//*[@id=\"site-container\"]/div[2]/div/div/div[2]/p[2]'\n",
    "    won = WebDriverWait(driver_chrome, 30).until(visibility_of_element_located((By.XPATH, won_xpath))).text\n",
    "    \n",
    "    lost = int(played) - int(won)\n",
    "    effectiveness = int(won) / int(played)\n",
    "    \n",
    "    consecutive_xpath = '//*[@id=\"site-container\"]/div[2]/div/div/div[5]/p[2]'\n",
    "    consecutive = WebDriverWait(driver_chrome, 30).until(visibility_of_element_located((By.XPATH, consecutive_xpath))).text\n",
    "    \n",
    "    csv_file.write(str(name) + \";\" + str(ranking) + \";\" + str(points) + \";\" + str(mate) + \";\" + str(position) + \";\" + str(birthplace) + \";\" + str(height) + \";\" + str(residence) + \";\" + str(played) + \";\" + str(won) + \";\" + str(lost) + \";\" + str(effectiveness) + \";\" + str(consecutive) + \"\\n\")\n"
   ]
  },
  {
   "cell_type": "code",
   "execution_count": 10,
   "metadata": {},
   "outputs": [],
   "source": [
    "csv_file.close()"
   ]
  },
  {
   "cell_type": "code",
   "execution_count": null,
   "metadata": {},
   "outputs": [],
   "source": []
  }
 ],
 "metadata": {
  "kernelspec": {
   "display_name": "Python 3",
   "language": "python",
   "name": "python3"
  },
  "language_info": {
   "codemirror_mode": {
    "name": "ipython",
    "version": 3
   },
   "file_extension": ".py",
   "mimetype": "text/x-python",
   "name": "python",
   "nbconvert_exporter": "python",
   "pygments_lexer": "ipython3",
   "version": "3.8.3"
  }
 },
 "nbformat": 4,
 "nbformat_minor": 4
}
