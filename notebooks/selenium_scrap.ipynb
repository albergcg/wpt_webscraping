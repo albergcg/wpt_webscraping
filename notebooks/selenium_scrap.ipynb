{
 "cells": [
  {
   "cell_type": "code",
   "execution_count": 1,
   "metadata": {},
   "outputs": [],
   "source": [
    "# wpt_scraper.py\n",
    "import csv\n",
    "from selenium.webdriver import Chrome\n",
    "from selenium.webdriver.common.by import By\n",
    "from selenium.webdriver.support.expected_conditions import visibility_of_element_located\n",
    "from selenium.webdriver.support.ui import WebDriverWait\n",
    "from selenium.common.exceptions import TimeoutException"
   ]
  },
  {
   "cell_type": "code",
   "execution_count": 2,
   "metadata": {},
   "outputs": [],
   "source": [
    "DRIVER_PATH = 'D:\\Program Files (x86)\\chromedriver.exe'\n",
    "driver_chrome = Chrome(DRIVER_PATH)\n",
    "driver_chrome.get('https://www.worldpadeltour.com/jugadores')"
   ]
  },
  {
   "cell_type": "code",
   "execution_count": 3,
   "metadata": {},
   "outputs": [
    {
     "data": {
      "text/plain": [
       "<selenium.webdriver.remote.webelement.WebElement (session=\"2268471fee782b8da34e5eca0ac96840\", element=\"fe2b12b8-9477-4853-a18a-080e5cfaafb3\")>"
      ]
     },
     "execution_count": 3,
     "metadata": {},
     "output_type": "execute_result"
    }
   ],
   "source": [
    "WebDriverWait(driver_chrome, 10).until(visibility_of_element_located((By.XPATH, '//*[@id=\"site-container\"]')))"
   ]
  },
  {
   "cell_type": "code",
   "execution_count": 4,
   "metadata": {},
   "outputs": [],
   "source": [
    "def scroll_to_top(driver, topX):\n",
    "    driver = driver_chrome\n",
    "    topX_xpath = f'//*[@id=\"site-container\"]/div[4]/div/div[1]/ul/li[{topX}]/a/div[1]/div[1]/div[1]'\n",
    "    topX_found = None\n",
    "\n",
    "    while topX_found == None:\n",
    "        driver.execute_script(\"window.scrollBy(0, 1000)\")\n",
    "        try:\n",
    "            topX_found = WebDriverWait(driver, 2).until(visibility_of_element_located((By.XPATH, topX_xpath)))\n",
    "        except TimeoutException:\n",
    "            pass"
   ]
  },
  {
   "cell_type": "code",
   "execution_count": 5,
   "metadata": {},
   "outputs": [],
   "source": [
    "topX = 100\n",
    "scroll_to_top(driver=driver_chrome, topX=topX)"
   ]
  },
  {
   "cell_type": "code",
   "execution_count": 6,
   "metadata": {},
   "outputs": [],
   "source": [
    "men_links = []\n",
    "\n",
    "for position in range(1, topX+1):\n",
    "    player_xpath = f'//*[@id=\"site-container\"]/div[4]/div/div[1]/ul/li[{str(position)}]/a'\n",
    "    player_element = WebDriverWait(driver_chrome, 10).until(visibility_of_element_located((By.XPATH, player_xpath)))\n",
    "    player_link = player_element.get_attribute('href')\n",
    "    men_links.append(player_link)"
   ]
  },
  {
   "cell_type": "code",
   "execution_count": 7,
   "metadata": {},
   "outputs": [],
   "source": [
    "women_links = []\n",
    "\n",
    "for position in range(1, topX+1):\n",
    "    player_xpath = f'//*[@id=\"site-container\"]/div[4]/div/div[2]/ul/li[{str(position)}]/a'\n",
    "    player_element = WebDriverWait(driver_chrome, 10).until(visibility_of_element_located((By.XPATH, player_xpath)))\n",
    "    player_link = player_element.get_attribute('href')\n",
    "    women_links.append(player_link)"
   ]
  },
  {
   "cell_type": "code",
   "execution_count": 9,
   "metadata": {},
   "outputs": [
    {
     "ename": "TimeoutException",
     "evalue": "Message: \n",
     "output_type": "error",
     "traceback": [
      "\u001b[1;31m---------------------------------------------------------------------------\u001b[0m",
      "\u001b[1;31mTimeoutException\u001b[0m                          Traceback (most recent call last)",
      "\u001b[1;32m<ipython-input-9-27bcbea55366>\u001b[0m in \u001b[0;36m<module>\u001b[1;34m\u001b[0m\n\u001b[0;32m     27\u001b[0m \u001b[1;33m\u001b[0m\u001b[0m\n\u001b[0;32m     28\u001b[0m     \u001b[0mbirthplace_xpath\u001b[0m \u001b[1;33m=\u001b[0m \u001b[1;34m'//*[@id=\"site-container\"]/div[1]/div/div[2]/div[2]/ul[2]/li[1]/p'\u001b[0m\u001b[1;33m\u001b[0m\u001b[1;33m\u001b[0m\u001b[0m\n\u001b[1;32m---> 29\u001b[1;33m     \u001b[0mbirthplace\u001b[0m \u001b[1;33m=\u001b[0m \u001b[0mWebDriverWait\u001b[0m\u001b[1;33m(\u001b[0m\u001b[0mdriver_chrome\u001b[0m\u001b[1;33m,\u001b[0m \u001b[1;36m3\u001b[0m\u001b[1;33m)\u001b[0m\u001b[1;33m.\u001b[0m\u001b[0muntil\u001b[0m\u001b[1;33m(\u001b[0m\u001b[0mvisibility_of_element_located\u001b[0m\u001b[1;33m(\u001b[0m\u001b[1;33m(\u001b[0m\u001b[0mBy\u001b[0m\u001b[1;33m.\u001b[0m\u001b[0mXPATH\u001b[0m\u001b[1;33m,\u001b[0m \u001b[0mbirthplace_xpath\u001b[0m\u001b[1;33m)\u001b[0m\u001b[1;33m)\u001b[0m\u001b[1;33m)\u001b[0m\u001b[1;33m.\u001b[0m\u001b[0mtext\u001b[0m\u001b[1;33m\u001b[0m\u001b[1;33m\u001b[0m\u001b[0m\n\u001b[0m\u001b[0;32m     30\u001b[0m     \u001b[0mprint\u001b[0m\u001b[1;33m(\u001b[0m\u001b[0mbirthplace\u001b[0m\u001b[1;33m)\u001b[0m\u001b[1;33m\u001b[0m\u001b[1;33m\u001b[0m\u001b[0m\n",
      "\u001b[1;32mD:\\Alberto\\Anaconda3\\lib\\site-packages\\selenium\\webdriver\\support\\wait.py\u001b[0m in \u001b[0;36muntil\u001b[1;34m(self, method, message)\u001b[0m\n\u001b[0;32m     78\u001b[0m             \u001b[1;32mif\u001b[0m \u001b[0mtime\u001b[0m\u001b[1;33m.\u001b[0m\u001b[0mtime\u001b[0m\u001b[1;33m(\u001b[0m\u001b[1;33m)\u001b[0m \u001b[1;33m>\u001b[0m \u001b[0mend_time\u001b[0m\u001b[1;33m:\u001b[0m\u001b[1;33m\u001b[0m\u001b[1;33m\u001b[0m\u001b[0m\n\u001b[0;32m     79\u001b[0m                 \u001b[1;32mbreak\u001b[0m\u001b[1;33m\u001b[0m\u001b[1;33m\u001b[0m\u001b[0m\n\u001b[1;32m---> 80\u001b[1;33m         \u001b[1;32mraise\u001b[0m \u001b[0mTimeoutException\u001b[0m\u001b[1;33m(\u001b[0m\u001b[0mmessage\u001b[0m\u001b[1;33m,\u001b[0m \u001b[0mscreen\u001b[0m\u001b[1;33m,\u001b[0m \u001b[0mstacktrace\u001b[0m\u001b[1;33m)\u001b[0m\u001b[1;33m\u001b[0m\u001b[1;33m\u001b[0m\u001b[0m\n\u001b[0m\u001b[0;32m     81\u001b[0m \u001b[1;33m\u001b[0m\u001b[0m\n\u001b[0;32m     82\u001b[0m     \u001b[1;32mdef\u001b[0m \u001b[0muntil_not\u001b[0m\u001b[1;33m(\u001b[0m\u001b[0mself\u001b[0m\u001b[1;33m,\u001b[0m \u001b[0mmethod\u001b[0m\u001b[1;33m,\u001b[0m \u001b[0mmessage\u001b[0m\u001b[1;33m=\u001b[0m\u001b[1;34m''\u001b[0m\u001b[1;33m)\u001b[0m\u001b[1;33m:\u001b[0m\u001b[1;33m\u001b[0m\u001b[1;33m\u001b[0m\u001b[0m\n",
      "\u001b[1;31mTimeoutException\u001b[0m: Message: \n"
     ]
    }
   ],
   "source": [
    "for position, player_link in enumerate(men_links, 1):\n",
    "    driver_chrome.get(player_link)\n",
    "    \n",
    "    if position == 1:\n",
    "        header_xpath = f'//*[@id=\"site-container\"]/div[1]/div/div[1]/div[1]'\n",
    "    else:\n",
    "        header_xpath = f'//*[@id=\"site-container\"]/div[1]/div/div[1]/div[2]'\n",
    "    \n",
    "    name_xpath = header_xpath + '/div/h1'\n",
    "    name = WebDriverWait(driver_chrome, 3).until(visibility_of_element_located((By.XPATH, name_xpath))).text\n",
    "    \n",
    "    position_xpath = header_xpath + '/div/div/div[1]/p[2]'\n",
    "    position = WebDriverWait(driver_chrome, 3).until(visibility_of_element_located((By.XPATH, position_xpath))).text    \n",
    "    \n",
    "    points_xpath = header_xpath + '/div/div/div[2]/p[2]'\n",
    "    points = WebDriverWait(driver_chrome, 3).until(visibility_of_element_located((By.XPATH, points_xpath))).text\n",
    "    \n",
    "    driver_chrome.get(player_link + '//#player_data')\n",
    "    \n",
    "    mate_xpath = '//*[@id=\"site-container\"]/div[1]/div/div[2]/div[2]/ul[1]/li[1]/p/a'\n",
    "    mate = WebDriverWait(driver_chrome, 3).until(visibility_of_element_located((By.XPATH, mate_xpath))).text\n",
    "    \n",
    "    court_position_xpath = '//*[@id=\"site-container\"]/div[1]/div/div[2]/div[2]/ul[1]/li[2]/p'\n",
    "    court_position = WebDriverWait(driver_chrome, 3).until(visibility_of_element_located((By.XPATH, court_position_xpath))).text\n",
    "    \n",
    "    driver_chrome.get(player_link + '//#personal_data')\n",
    "    \n",
    "    birthplace_xpath = '//*[@id=\"site-container\"]/div[1]/div/div[2]/div[2]/ul[2]/li[1]/p'\n",
    "    birthplace = WebDriverWait(driver_chrome, 3).until(visibility_of_element_located((By.XPATH, birthplace_xpath))).text\n",
    "    print(birthplace)"
   ]
  },
  {
   "cell_type": "code",
   "execution_count": null,
   "metadata": {},
   "outputs": [],
   "source": []
  }
 ],
 "metadata": {
  "kernelspec": {
   "display_name": "Python 3",
   "language": "python",
   "name": "python3"
  },
  "language_info": {
   "codemirror_mode": {
    "name": "ipython",
    "version": 3
   },
   "file_extension": ".py",
   "mimetype": "text/x-python",
   "name": "python",
   "nbconvert_exporter": "python",
   "pygments_lexer": "ipython3",
   "version": "3.7.7"
  }
 },
 "nbformat": 4,
 "nbformat_minor": 4
}
